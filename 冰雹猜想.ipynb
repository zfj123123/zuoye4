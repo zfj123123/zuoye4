{
 "cells": [
  {
   "cell_type": "code",
   "execution_count": 19,
   "metadata": {},
   "outputs": [
    {
     "name": "stdout",
     "output_type": "stream",
     "text": [
      "2\n",
      "1=2/2\n"
     ]
    }
   ],
   "source": [
    "n = int(input())\n",
    " \n",
    "while n != 1:\n",
    "    if n % 2 == 0:\n",
    "        k = n / 2\n",
    "        print(\"%d=%d/2\" %(k, n))\n",
    "        n = k\n",
    "    else:\n",
    "        l = n * 3 + 1\n",
    "        print(\"%d=%d*3+1\" %(l, n))\n",
    "        n=l"
   ]
  },
  {
   "cell_type": "code",
   "execution_count": 20,
   "metadata": {},
   "outputs": [
    {
     "name": "stdout",
     "output_type": "stream",
     "text": [
      "3\n",
      "10=3*3+1\n",
      "5=10/2\n",
      "16=5*3+1\n",
      "8=16/2\n",
      "4=8/2\n",
      "2=4/2\n",
      "1=2/2\n"
     ]
    }
   ],
   "source": [
    "n = int(input())\n",
    " \n",
    "while n != 1:\n",
    "    if n % 2 == 0:\n",
    "        k = n / 2\n",
    "        print(\"%d=%d/2\" %(k, n))\n",
    "        n = k\n",
    "    else:\n",
    "        l = n * 3 + 1\n",
    "        print(\"%d=%d*3+1\" %(l, n))\n",
    "        n=l"
   ]
  },
  {
   "cell_type": "code",
   "execution_count": 21,
   "metadata": {},
   "outputs": [
    {
     "name": "stdout",
     "output_type": "stream",
     "text": [
      "4\n",
      "2=4/2\n",
      "1=2/2\n"
     ]
    }
   ],
   "source": [
    "n = int(input())\n",
    " \n",
    "while n != 1:\n",
    "    if n % 2 == 0:\n",
    "        k = n / 2\n",
    "        print(\"%d=%d/2\" %(k, n))\n",
    "        n = k\n",
    "    else:\n",
    "        l = n * 3 + 1\n",
    "        print(\"%d=%d*3+1\" %(l, n))\n",
    "        n=l"
   ]
  },
  {
   "cell_type": "code",
   "execution_count": 22,
   "metadata": {},
   "outputs": [
    {
     "name": "stdout",
     "output_type": "stream",
     "text": [
      "5\n",
      "16=5*3+1\n",
      "8=16/2\n",
      "4=8/2\n",
      "2=4/2\n",
      "1=2/2\n"
     ]
    }
   ],
   "source": [
    "n = int(input())\n",
    " \n",
    "while n != 1:\n",
    "    if n % 2 == 0:\n",
    "        k = n / 2\n",
    "        print(\"%d=%d/2\" %(k, n))\n",
    "        n = k\n",
    "    else:\n",
    "        l = n * 3 + 1\n",
    "        print(\"%d=%d*3+1\" %(l, n))\n",
    "        n=l"
   ]
  },
  {
   "cell_type": "code",
   "execution_count": 23,
   "metadata": {},
   "outputs": [
    {
     "name": "stdout",
     "output_type": "stream",
     "text": [
      "6\n",
      "3=6/2\n",
      "10=3*3+1\n",
      "5=10/2\n",
      "16=5*3+1\n",
      "8=16/2\n",
      "4=8/2\n",
      "2=4/2\n",
      "1=2/2\n"
     ]
    }
   ],
   "source": [
    "n = int(input())\n",
    " \n",
    "while n != 1:\n",
    "    if n % 2 == 0:\n",
    "        k = n / 2\n",
    "        print(\"%d=%d/2\" %(k, n))\n",
    "        n = k\n",
    "    else:\n",
    "        l = n * 3 + 1\n",
    "        print(\"%d=%d*3+1\" %(l, n))\n",
    "        n=l"
   ]
  },
  {
   "cell_type": "code",
   "execution_count": 24,
   "metadata": {},
   "outputs": [
    {
     "name": "stdout",
     "output_type": "stream",
     "text": [
      "7\n",
      "22=7*3+1\n",
      "11=22/2\n",
      "34=11*3+1\n",
      "17=34/2\n",
      "52=17*3+1\n",
      "26=52/2\n",
      "13=26/2\n",
      "40=13*3+1\n",
      "20=40/2\n",
      "10=20/2\n",
      "5=10/2\n",
      "16=5*3+1\n",
      "8=16/2\n",
      "4=8/2\n",
      "2=4/2\n",
      "1=2/2\n"
     ]
    }
   ],
   "source": [
    "n = int(input())\n",
    " \n",
    "while n != 1:\n",
    "    if n % 2 == 0:\n",
    "        k = n / 2\n",
    "        print(\"%d=%d/2\" %(k, n))\n",
    "        n = k\n",
    "    else:\n",
    "        l = n * 3 + 1\n",
    "        print(\"%d=%d*3+1\" %(l, n))\n",
    "        n=l"
   ]
  },
  {
   "cell_type": "code",
   "execution_count": 25,
   "metadata": {},
   "outputs": [
    {
     "name": "stdout",
     "output_type": "stream",
     "text": [
      "8\n",
      "4=8/2\n",
      "2=4/2\n",
      "1=2/2\n"
     ]
    }
   ],
   "source": [
    "n = int(input())\n",
    " \n",
    "while n != 1:\n",
    "    if n % 2 == 0:\n",
    "        k = n / 2\n",
    "        print(\"%d=%d/2\" %(k, n))\n",
    "        n = k\n",
    "    else:\n",
    "        l = n * 3 + 1\n",
    "        print(\"%d=%d*3+1\" %(l, n))\n",
    "        n=l"
   ]
  },
  {
   "cell_type": "code",
   "execution_count": 26,
   "metadata": {},
   "outputs": [
    {
     "name": "stdout",
     "output_type": "stream",
     "text": [
      "9\n",
      "28=9*3+1\n",
      "14=28/2\n",
      "7=14/2\n",
      "22=7*3+1\n",
      "11=22/2\n",
      "34=11*3+1\n",
      "17=34/2\n",
      "52=17*3+1\n",
      "26=52/2\n",
      "13=26/2\n",
      "40=13*3+1\n",
      "20=40/2\n",
      "10=20/2\n",
      "5=10/2\n",
      "16=5*3+1\n",
      "8=16/2\n",
      "4=8/2\n",
      "2=4/2\n",
      "1=2/2\n"
     ]
    }
   ],
   "source": [
    "n = int(input())\n",
    " \n",
    "while n != 1:\n",
    "    if n % 2 == 0:\n",
    "        k = n / 2\n",
    "        print(\"%d=%d/2\" %(k, n))\n",
    "        n = k\n",
    "    else:\n",
    "        l = n * 3 + 1\n",
    "        print(\"%d=%d*3+1\" %(l, n))\n",
    "        n=l"
   ]
  },
  {
   "cell_type": "code",
   "execution_count": 27,
   "metadata": {},
   "outputs": [
    {
     "name": "stdout",
     "output_type": "stream",
     "text": [
      "10\n",
      "5=10/2\n",
      "16=5*3+1\n",
      "8=16/2\n",
      "4=8/2\n",
      "2=4/2\n",
      "1=2/2\n"
     ]
    }
   ],
   "source": [
    "n = int(input())\n",
    " \n",
    "while n != 1:\n",
    "    if n % 2 == 0:\n",
    "        k = n / 2\n",
    "        print(\"%d=%d/2\" %(k, n))\n",
    "        n = k\n",
    "    else:\n",
    "        l = n * 3 + 1\n",
    "        print(\"%d=%d*3+1\" %(l, n))\n",
    "        n=l"
   ]
  },
  {
   "cell_type": "code",
   "execution_count": null,
   "metadata": {},
   "outputs": [],
   "source": []
  }
 ],
 "metadata": {
  "kernelspec": {
   "display_name": "Python 3",
   "language": "python",
   "name": "python3"
  },
  "language_info": {
   "codemirror_mode": {
    "name": "ipython",
    "version": 3
   },
   "file_extension": ".py",
   "mimetype": "text/x-python",
   "name": "python",
   "nbconvert_exporter": "python",
   "pygments_lexer": "ipython3",
   "version": "3.7.3"
  }
 },
 "nbformat": 4,
 "nbformat_minor": 2
}
