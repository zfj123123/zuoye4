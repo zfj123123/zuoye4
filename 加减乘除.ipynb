{
 "cells": [
  {
   "cell_type": "code",
   "execution_count": null,
   "metadata": {},
   "outputs": [
    {
     "name": "stdout",
     "output_type": "stream",
     "text": [
      "7 / 8 = \n"
     ]
    }
   ],
   "source": [
    "import random\n",
    "count = 0\n",
    "right = 0\n",
    "op = ['+','-','*','/']\n",
    "\n",
    "while True:\n",
    "    a= random.randint(0,9)\n",
    "    b= random.randint(0,9)\n",
    "    s = random.choice(op)\n",
    "    print('%d %s %d = ' %(a,s,b))\n",
    "    question = input('请输入您的答案:')\n",
    "    if s == '+':\n",
    "        result = a + b\n",
    "    if s == '-':\n",
    "        result = a - b\n",
    "    if s == '*':\n",
    "        result = a * b\n",
    "    if s == '/':\n",
    "        result = a // b\n",
    "    if question == str(result):\n",
    "        print('回答正确')\n",
    "        right += 1\n",
    "        count += 1\n",
    "    elif question == 'q':\n",
    "        break\n",
    "    else:\n",
    "        print('回答错误')\n",
    "        count += 1\n",
    "\n",
    "percent = right / count\n",
    "print('测试结束,共回答道题,正确个数为%d')"
   ]
  },
  {
   "cell_type": "code",
   "execution_count": null,
   "metadata": {
    "collapsed": true
   },
   "outputs": [],
   "source": []
  }
 ],
 "metadata": {
  "kernelspec": {
   "display_name": "Python 3",
   "language": "python",
   "name": "python3"
  },
  "language_info": {
   "codemirror_mode": {
    "name": "ipython",
    "version": 3
   },
   "file_extension": ".py",
   "mimetype": "text/x-python",
   "name": "python",
   "nbconvert_exporter": "python",
   "pygments_lexer": "ipython3",
   "version": "3.6.3"
  }
 },
 "nbformat": 4,
 "nbformat_minor": 2
}
